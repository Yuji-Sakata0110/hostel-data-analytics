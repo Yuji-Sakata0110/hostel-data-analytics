{
 "cells": [
  {
   "cell_type": "code",
   "execution_count": 4,
   "metadata": {},
   "outputs": [],
   "source": [
    "import pandas as pd"
   ]
  },
  {
   "cell_type": "code",
   "execution_count": 5,
   "metadata": {},
   "outputs": [],
   "source": [
    "df: pd.DataFrame = pd.read_csv(\"Hostel.csv\")"
   ]
  },
  {
   "cell_type": "code",
   "execution_count": 12,
   "metadata": {},
   "outputs": [],
   "source": [
    "#　データセット内で各都市ごとにカウントする。\n",
    "city_data_count: pd.DataFrame = df[\"City\"].value_counts().reset_index()"
   ]
  },
  {
   "cell_type": "code",
   "execution_count": 14,
   "metadata": {},
   "outputs": [
    {
     "data": {
      "text/plain": [
       "342"
      ]
     },
     "execution_count": 14,
     "metadata": {},
     "output_type": "execute_result"
    }
   ],
   "source": [
    "# 行数を出力\n",
    "df.shape[0]"
   ]
  },
  {
   "cell_type": "code",
   "execution_count": 15,
   "metadata": {},
   "outputs": [
    {
     "data": {
      "text/plain": [
       "16"
      ]
     },
     "execution_count": 15,
     "metadata": {},
     "output_type": "execute_result"
    }
   ],
   "source": [
    "# 列数を出力\n",
    "df.shape[1]"
   ]
  },
  {
   "cell_type": "code",
   "execution_count": 17,
   "metadata": {},
   "outputs": [
    {
     "data": {
      "text/html": [
       "<div>\n",
       "<style scoped>\n",
       "    .dataframe tbody tr th:only-of-type {\n",
       "        vertical-align: middle;\n",
       "    }\n",
       "\n",
       "    .dataframe tbody tr th {\n",
       "        vertical-align: top;\n",
       "    }\n",
       "\n",
       "    .dataframe thead th {\n",
       "        text-align: right;\n",
       "    }\n",
       "</style>\n",
       "<table border=\"1\" class=\"dataframe\">\n",
       "  <thead>\n",
       "    <tr style=\"text-align: right;\">\n",
       "      <th></th>\n",
       "      <th>City</th>\n",
       "      <th>count</th>\n",
       "    </tr>\n",
       "  </thead>\n",
       "  <tbody>\n",
       "    <tr>\n",
       "      <th>0</th>\n",
       "      <td>Tokyo</td>\n",
       "      <td>127</td>\n",
       "    </tr>\n",
       "    <tr>\n",
       "      <th>1</th>\n",
       "      <td>Osaka</td>\n",
       "      <td>104</td>\n",
       "    </tr>\n",
       "    <tr>\n",
       "      <th>2</th>\n",
       "      <td>Kyoto</td>\n",
       "      <td>78</td>\n",
       "    </tr>\n",
       "    <tr>\n",
       "      <th>3</th>\n",
       "      <td>Fukuoka-City</td>\n",
       "      <td>19</td>\n",
       "    </tr>\n",
       "    <tr>\n",
       "      <th>4</th>\n",
       "      <td>Hiroshima</td>\n",
       "      <td>14</td>\n",
       "    </tr>\n",
       "  </tbody>\n",
       "</table>\n",
       "</div>"
      ],
      "text/plain": [
       "           City  count\n",
       "0         Tokyo    127\n",
       "1         Osaka    104\n",
       "2         Kyoto     78\n",
       "3  Fukuoka-City     19\n",
       "4     Hiroshima     14"
      ]
     },
     "execution_count": 17,
     "metadata": {},
     "output_type": "execute_result"
    }
   ],
   "source": [
    "city_data_count"
   ]
  },
  {
   "cell_type": "code",
   "execution_count": 129,
   "metadata": {},
   "outputs": [],
   "source": [
    "import matplotlib\n",
    "import matplotlib.pyplot as plt\n",
    "matplotlib.use('TkAgg')"
   ]
  },
  {
   "cell_type": "code",
   "execution_count": 130,
   "metadata": {},
   "outputs": [],
   "source": [
    "plt.figure(figsize=(8, 6))  # グラフのサイズを設定（任意）\n",
    "\n",
    "# 棒グラフを描画\n",
    "plt.bar(city_data_count[\"City\"], city_data_count[\"count\"])\n",
    "\n",
    "# グラフのタイトルとラベルを設定\n",
    "plt.title('bar chart')\n",
    "plt.xlabel('City')\n",
    "plt.ylabel('count')\n",
    "\n",
    "# グラフを表示\n",
    "plt.show()\n",
    "plt.savefig('assets/bar_char.png')"
   ]
  },
  {
   "cell_type": "code",
   "execution_count": 131,
   "metadata": {},
   "outputs": [],
   "source": [
    "#　データセット内で価格が3000円を超えるホステルを抽出する。\n",
    "city_price_over_3000: pd.DataFrame = df[[\"City\", \"price.from\"]][df[\"price.from\"] > 3000 ]"
   ]
  },
  {
   "cell_type": "code",
   "execution_count": 132,
   "metadata": {},
   "outputs": [],
   "source": [
    "city_price_over_3000: pd.DataFrame = city_price_over_3000[\"City\"].value_counts().reset_index()"
   ]
  },
  {
   "cell_type": "code",
   "execution_count": 133,
   "metadata": {},
   "outputs": [],
   "source": [
    "plt.figure(figsize=[8, 6])\n",
    "\n",
    "# 棒グラフを描画\n",
    "plt.bar(city_price_over_3000[\"City\"], city_price_over_3000[\"count\"])\n",
    "\n",
    "# グラフのタイトルとラベルを設定\n",
    "plt.title('bar chart')\n",
    "plt.xlabel('City')\n",
    "plt.ylabel('count')\n",
    "\n",
    "# グラフを表示\n",
    "plt.show()\n",
    "plt.savefig('assets/bar_char_price_over_3000.png')"
   ]
  },
  {
   "cell_type": "code",
   "execution_count": 135,
   "metadata": {},
   "outputs": [],
   "source": [
    "# 都市毎でスタッフ平均値を算出\n",
    "mean_staff_each_city: pd.DataFrame =  df[[\"City\", \"staff\"]].groupby(\"City\")[\"staff\"].mean().reset_index()"
   ]
  },
  {
   "cell_type": "code",
   "execution_count": 136,
   "metadata": {},
   "outputs": [],
   "source": [
    "plt.figure(figsize=[8, 6])\n",
    "\n",
    "# 棒グラフを描画\n",
    "plt.bar(mean_staff_each_city[\"City\"], mean_staff_each_city[\"staff\"])\n",
    "\n",
    "# グラフのタイトルとラベルを設定\n",
    "plt.title('bar chart')\n",
    "plt.xlabel('City')\n",
    "plt.ylabel('staff')\n",
    "\n",
    "# グラフを表示\n",
    "plt.show()\n",
    "plt.savefig('assets/bar_char_mean_staff_each_city.png')"
   ]
  },
  {
   "cell_type": "code",
   "execution_count": null,
   "metadata": {},
   "outputs": [],
   "source": []
  }
 ],
 "metadata": {
  "kernelspec": {
   "display_name": "Python 3",
   "language": "python",
   "name": "python3"
  },
  "language_info": {
   "codemirror_mode": {
    "name": "ipython",
    "version": 3
   },
   "file_extension": ".py",
   "mimetype": "text/x-python",
   "name": "python",
   "nbconvert_exporter": "python",
   "pygments_lexer": "ipython3",
   "version": "3.10.4"
  },
  "orig_nbformat": 4
 },
 "nbformat": 4,
 "nbformat_minor": 2
}
